{
 "cells": [
  {
   "cell_type": "code",
   "execution_count": 22,
   "metadata": {},
   "outputs": [],
   "source": [
    "import copy"
   ]
  },
  {
   "cell_type": "markdown",
   "metadata": {},
   "source": [
    "Идея: решающее категориальное дерево"
   ]
  },
  {
   "cell_type": "markdown",
   "metadata": {},
   "source": [
    "pseudocode:\n",
    "\n",
    "надо получить все признаки а также значения которые они принимают, а также как часто они его принимают\n",
    "\n",
    "я смотрю признак, смотрю сколько значений обладают значением и сколько нет.\n"
   ]
  },
  {
   "cell_type": "markdown",
   "metadata": {},
   "source": [
    "граничные случаи:\n",
    "все обладают одним признаком или же никто. это плохо\n",
    "\n",
    "чем лучше я сужаю поиск, тем лучше\n",
    "\n",
    "отношение да/нет ближе всех к единице это хорошо. Так получится бинарный поиск, наиболее эффективный"
   ]
  },
  {
   "cell_type": "markdown",
   "metadata": {},
   "source": [
    "Test data:\n",
    "\n",
    "4\n",
    "\n",
    "name;countryName;continentName;gender;occupation;domain\n",
    "\n",
    "Lomonosov;Russia;Europe;MALE;mathematitian;mathematics\n",
    "\n",
    "Lewis Milestone;MOLDOVA;Europe;MALE;FILM DIRECTOR;ARTS\n",
    "\n",
    "Aboba aboba;Poland;Europe;MALE;Politian;Politics\n",
    "\n",
    "Kovalevskaya;Russia;Europe;Female;mathematitian;mathematics\n"
   ]
  },
  {
   "cell_type": "code",
   "execution_count": 42,
   "metadata": {},
   "outputs": [],
   "source": [
    "N = int(input())\n",
    "features = input().split(';')\n",
    "features_wo_name = features[1:]\n",
    "possible_values = {feature : set() for feature in features}\n",
    "persons = []\n",
    "for _ in range(N):\n",
    "    data = input().split(';')\n",
    "    person_dict = {}\n",
    "    for i in range(len(features)):\n",
    "        person_dict[features[i]] = data[i]\n",
    "        possible_values[features[i]].add(data[i])\n",
    "    persons.append(person_dict)        \n"
   ]
  },
  {
   "cell_type": "code",
   "execution_count": 43,
   "metadata": {},
   "outputs": [],
   "source": [
    "test_input = '''4\n",
    "name;countryName;continentName;gender;occupation;domain\n",
    "Lomonosov;Russia;Europe;MALE;mathematitian;mathematics\n",
    "Lewis Milestone;MOLDOVA;Europe;MALE;FILM DIRECTOR;ARTS\n",
    "Aboba aboba;Poland;Europe;MALE;Politian;Politics\n",
    "Kovalevskaya;Russia;Europe;Female;mathematitian;mathematics'''\n",
    "\n",
    "input_lines = iter(test_input.split('\\n'))\n",
    "\n",
    "def simulated_input():\n",
    "    return next(input_lines)\n",
    "\n",
    "N = int(simulated_input())\n",
    "features = simulated_input().split(';')\n",
    "features_wo_name = features[1:]\n",
    "possible_values = {feature : set() for feature in features}\n",
    "persons = []\n",
    "for _ in range(N):\n",
    "    data = simulated_input().split(';')\n",
    "    person_dict = {}\n",
    "    for i in range(len(features)):\n",
    "        person_dict[features[i]] = data[i]\n",
    "        possible_values[features[i]].add(data[i])\n",
    "    persons.append(person_dict)        \n"
   ]
  },
  {
   "cell_type": "code",
   "execution_count": 44,
   "metadata": {},
   "outputs": [
    {
     "data": {
      "text/plain": [
       "{'name': {'Aboba aboba', 'Kovalevskaya', 'Lewis Milestone', 'Lomonosov'},\n",
       " 'countryName': {'MOLDOVA', 'Poland', 'Russia'},\n",
       " 'continentName': {'Europe'},\n",
       " 'gender': {'Female', 'MALE'},\n",
       " 'occupation': {'FILM DIRECTOR', 'Politian', 'mathematitian'},\n",
       " 'domain': {'ARTS', 'Politics', 'mathematics'}}"
      ]
     },
     "execution_count": 44,
     "metadata": {},
     "output_type": "execute_result"
    }
   ],
   "source": [
    "possible_values"
   ]
  },
  {
   "cell_type": "code",
   "execution_count": 45,
   "metadata": {},
   "outputs": [
    {
     "data": {
      "text/plain": [
       "[{'name': 'Lomonosov',\n",
       "  'countryName': 'Russia',\n",
       "  'continentName': 'Europe',\n",
       "  'gender': 'MALE',\n",
       "  'occupation': 'mathematitian',\n",
       "  'domain': 'mathematics'},\n",
       " {'name': 'Lewis Milestone',\n",
       "  'countryName': 'MOLDOVA',\n",
       "  'continentName': 'Europe',\n",
       "  'gender': 'MALE',\n",
       "  'occupation': 'FILM DIRECTOR',\n",
       "  'domain': 'ARTS'},\n",
       " {'name': 'Aboba aboba',\n",
       "  'countryName': 'Poland',\n",
       "  'continentName': 'Europe',\n",
       "  'gender': 'MALE',\n",
       "  'occupation': 'Politian',\n",
       "  'domain': 'Politics'},\n",
       " {'name': 'Kovalevskaya',\n",
       "  'countryName': 'Russia',\n",
       "  'continentName': 'Europe',\n",
       "  'gender': 'Female',\n",
       "  'occupation': 'mathematitian',\n",
       "  'domain': 'mathematics'}]"
      ]
     },
     "execution_count": 45,
     "metadata": {},
     "output_type": "execute_result"
    }
   ],
   "source": [
    "persons"
   ]
  },
  {
   "cell_type": "code",
   "execution_count": 115,
   "metadata": {},
   "outputs": [],
   "source": [
    "def divide(persons, feature, value) -> float:\n",
    "    '''abs pos - neg, want to minimize it'''\n",
    "    yes_arr = []\n",
    "    no_arr = []\n",
    "    for person in persons:\n",
    "        if person[feature] == value:\n",
    "            yes_arr.append(person)\n",
    "        else:\n",
    "            no_arr.append(person)\n",
    "    return yes_arr, no_arr\n",
    "\n",
    "def get_best_value(persons, feature) -> str:\n",
    "    num = len(persons)\n",
    "    values = {value : 0 for value in possible_values[feature]}\n",
    "    for person in persons:\n",
    "        values[person[feature]] += 1\n",
    "    return best_value_from_dict(values, num)\n",
    "    \n",
    "def best_value_from_dict(values, num_of_persons) -> str:\n",
    "    best = 1\n",
    "    best_value = None\n",
    "    for value, pos_num in values.items():\n",
    "        if abs(pos_num/num_of_persons - 0.5) <= best:\n",
    "            best = abs(pos_num/num_of_persons - 0.5)\n",
    "            best_value = value\n",
    "    return best_value, best\n",
    "\n",
    "def get_best_feature_value(persons, features):\n",
    "    best_score = 1\n",
    "    best_feature = None\n",
    "    best_value = None\n",
    "    for feature in features:\n",
    "        value, score = get_best_value(persons, feature)\n",
    "        # print(f'feature {feature}, value {value}, score {score}')\n",
    "        if score < best_score:\n",
    "            best_score = score\n",
    "            best_feature = feature\n",
    "            best_value = value\n",
    "    return best_feature, best_value"
   ]
  },
  {
   "cell_type": "code",
   "execution_count": 121,
   "metadata": {},
   "outputs": [],
   "source": [
    "test_feature, test_value = get_best_feature_value(persons, features)"
   ]
  },
  {
   "cell_type": "code",
   "execution_count": 122,
   "metadata": {},
   "outputs": [],
   "source": [
    "yes_arr, no_arr = divide(persons, test_feature, test_value)"
   ]
  },
  {
   "cell_type": "code",
   "execution_count": 123,
   "metadata": {},
   "outputs": [
    {
     "data": {
      "text/plain": [
       "[{'name': 'Lomonosov',\n",
       "  'countryName': 'Russia',\n",
       "  'continentName': 'Europe',\n",
       "  'gender': 'MALE',\n",
       "  'occupation': 'mathematitian',\n",
       "  'domain': 'mathematics'},\n",
       " {'name': 'Kovalevskaya',\n",
       "  'countryName': 'Russia',\n",
       "  'continentName': 'Europe',\n",
       "  'gender': 'Female',\n",
       "  'occupation': 'mathematitian',\n",
       "  'domain': 'mathematics'}]"
      ]
     },
     "execution_count": 123,
     "metadata": {},
     "output_type": "execute_result"
    }
   ],
   "source": [
    "yes_arr"
   ]
  },
  {
   "cell_type": "code",
   "execution_count": 124,
   "metadata": {},
   "outputs": [
    {
     "data": {
      "text/plain": [
       "[{'name': 'Lewis Milestone',\n",
       "  'countryName': 'MOLDOVA',\n",
       "  'continentName': 'Europe',\n",
       "  'gender': 'MALE',\n",
       "  'occupation': 'FILM DIRECTOR',\n",
       "  'domain': 'ARTS'},\n",
       " {'name': 'Aboba aboba',\n",
       "  'countryName': 'Poland',\n",
       "  'continentName': 'Europe',\n",
       "  'gender': 'MALE',\n",
       "  'occupation': 'Politian',\n",
       "  'domain': 'Politics'}]"
      ]
     },
     "execution_count": 124,
     "metadata": {},
     "output_type": "execute_result"
    }
   ],
   "source": [
    "no_arr"
   ]
  },
  {
   "cell_type": "code",
   "execution_count": 125,
   "metadata": {},
   "outputs": [],
   "source": [
    "test_feature, test_value = get_best_feature_value(no_arr, features)"
   ]
  },
  {
   "cell_type": "code",
   "execution_count": 126,
   "metadata": {},
   "outputs": [
    {
     "data": {
      "text/plain": [
       "('name', 'Lewis Milestone')"
      ]
     },
     "execution_count": 126,
     "metadata": {},
     "output_type": "execute_result"
    }
   ],
   "source": [
    "test_feature, test_value"
   ]
  },
  {
   "cell_type": "code",
   "execution_count": 127,
   "metadata": {},
   "outputs": [],
   "source": [
    "yes_arr, no_arr = divide(no_arr, test_feature, test_value)"
   ]
  },
  {
   "cell_type": "code",
   "execution_count": 128,
   "metadata": {},
   "outputs": [
    {
     "data": {
      "text/plain": [
       "[{'name': 'Lewis Milestone',\n",
       "  'countryName': 'MOLDOVA',\n",
       "  'continentName': 'Europe',\n",
       "  'gender': 'MALE',\n",
       "  'occupation': 'FILM DIRECTOR',\n",
       "  'domain': 'ARTS'}]"
      ]
     },
     "execution_count": 128,
     "metadata": {},
     "output_type": "execute_result"
    }
   ],
   "source": [
    "yes_arr"
   ]
  },
  {
   "cell_type": "code",
   "execution_count": 129,
   "metadata": {},
   "outputs": [
    {
     "data": {
      "text/plain": [
       "[{'name': 'Aboba aboba',\n",
       "  'countryName': 'Poland',\n",
       "  'continentName': 'Europe',\n",
       "  'gender': 'MALE',\n",
       "  'occupation': 'Politian',\n",
       "  'domain': 'Politics'}]"
      ]
     },
     "execution_count": 129,
     "metadata": {},
     "output_type": "execute_result"
    }
   ],
   "source": [
    "no_arr"
   ]
  },
  {
   "cell_type": "markdown",
   "metadata": {},
   "source": [
    "Pseudocode:\n",
    "generate a graph of questions"
   ]
  },
  {
   "cell_type": "code",
   "execution_count": 102,
   "metadata": {},
   "outputs": [
    {
     "name": "stdout",
     "output_type": "stream",
     "text": [
      "STOP on node\n"
     ]
    },
    {
     "data": {
      "text/plain": [
       "<__main__.QuestionNode at 0x7f18330d5160>"
      ]
     },
     "execution_count": 102,
     "metadata": {},
     "output_type": "execute_result"
    }
   ],
   "source": [
    "QuestionNode(features, yes_arr)"
   ]
  },
  {
   "cell_type": "code",
   "execution_count": 100,
   "metadata": {},
   "outputs": [],
   "source": [
    "from typing import Any\n",
    "\n",
    "\n",
    "class QuestionNode:\n",
    "\n",
    "    # def __init__(self, no_node: 'QuestionNode', yes_node: 'QuestionNode', feature: str, value: str) -> None:\n",
    "    def __init__(self, features, persons) -> None:\n",
    "        self.answer = None\n",
    "\n",
    "        if len(persons) == 1:\n",
    "            print('STOP on node')\n",
    "            self.answer = persons[0]['name']\n",
    "            return\n",
    "        \n",
    "        self.feature, self.value = get_best_feature_value(persons, features)\n",
    "        yes_arr, no_arr = divide(persons, test_feature, test_value)\n",
    "\n",
    "        self.yes_node = QuestionNode(features, yes_arr)\n",
    "        self.no_node = QuestionNode(features, no_arr)\n",
    "\n",
    "        return None\n",
    "    \n",
    "    def akinator(self):\n",
    "        if self.answer:\n",
    "            print(f'! {self.answer}')\n",
    "        print(f'? {self.feature} {self.value}')\n",
    "        question_answer = input()\n",
    "        if question_answer == 'YES':\n",
    "            self.yes_node.akinator()\n",
    "        if question_answer == 'NO':\n",
    "            self.no_node.akinator()\n",
    "    "
   ]
  },
  {
   "cell_type": "code",
   "execution_count": 101,
   "metadata": {},
   "outputs": [
    {
     "name": "stdout",
     "output_type": "stream",
     "text": [
      "STOP on node\n"
     ]
    },
    {
     "ename": "ZeroDivisionError",
     "evalue": "division by zero",
     "output_type": "error",
     "traceback": [
      "\u001b[0;31m---------------------------------------------------------------------------\u001b[0m",
      "\u001b[0;31mZeroDivisionError\u001b[0m                         Traceback (most recent call last)",
      "\u001b[0;32m/tmp/ipykernel_510763/3447006835.py\u001b[0m in \u001b[0;36m<module>\u001b[0;34m\u001b[0m\n\u001b[0;32m----> 1\u001b[0;31m \u001b[0mmodel\u001b[0m \u001b[0;34m=\u001b[0m \u001b[0mQuestionNode\u001b[0m\u001b[0;34m(\u001b[0m\u001b[0mfeatures\u001b[0m\u001b[0;34m,\u001b[0m \u001b[0mpersons\u001b[0m\u001b[0;34m)\u001b[0m\u001b[0;34m\u001b[0m\u001b[0;34m\u001b[0m\u001b[0m\n\u001b[0m",
      "\u001b[0;32m/tmp/ipykernel_510763/1868080217.py\u001b[0m in \u001b[0;36m__init__\u001b[0;34m(self, features, persons)\u001b[0m\n\u001b[1;32m     17\u001b[0m \u001b[0;34m\u001b[0m\u001b[0m\n\u001b[1;32m     18\u001b[0m         \u001b[0mself\u001b[0m\u001b[0;34m.\u001b[0m\u001b[0myes_node\u001b[0m \u001b[0;34m=\u001b[0m \u001b[0mQuestionNode\u001b[0m\u001b[0;34m(\u001b[0m\u001b[0mfeatures\u001b[0m\u001b[0;34m,\u001b[0m \u001b[0myes_arr\u001b[0m\u001b[0;34m)\u001b[0m\u001b[0;34m\u001b[0m\u001b[0;34m\u001b[0m\u001b[0m\n\u001b[0;32m---> 19\u001b[0;31m         \u001b[0mself\u001b[0m\u001b[0;34m.\u001b[0m\u001b[0mno_node\u001b[0m \u001b[0;34m=\u001b[0m \u001b[0mQuestionNode\u001b[0m\u001b[0;34m(\u001b[0m\u001b[0mfeatures\u001b[0m\u001b[0;34m,\u001b[0m \u001b[0mno_arr\u001b[0m\u001b[0;34m)\u001b[0m\u001b[0;34m\u001b[0m\u001b[0;34m\u001b[0m\u001b[0m\n\u001b[0m\u001b[1;32m     20\u001b[0m \u001b[0;34m\u001b[0m\u001b[0m\n\u001b[1;32m     21\u001b[0m         \u001b[0;32mreturn\u001b[0m \u001b[0;32mNone\u001b[0m\u001b[0;34m\u001b[0m\u001b[0;34m\u001b[0m\u001b[0m\n",
      "\u001b[0;32m/tmp/ipykernel_510763/1868080217.py\u001b[0m in \u001b[0;36m__init__\u001b[0;34m(self, features, persons)\u001b[0m\n\u001b[1;32m     16\u001b[0m         \u001b[0myes_arr\u001b[0m\u001b[0;34m,\u001b[0m \u001b[0mno_arr\u001b[0m \u001b[0;34m=\u001b[0m \u001b[0mdivide\u001b[0m\u001b[0;34m(\u001b[0m\u001b[0mpersons\u001b[0m\u001b[0;34m,\u001b[0m \u001b[0mtest_feature\u001b[0m\u001b[0;34m,\u001b[0m \u001b[0mtest_value\u001b[0m\u001b[0;34m)\u001b[0m\u001b[0;34m\u001b[0m\u001b[0;34m\u001b[0m\u001b[0m\n\u001b[1;32m     17\u001b[0m \u001b[0;34m\u001b[0m\u001b[0m\n\u001b[0;32m---> 18\u001b[0;31m         \u001b[0mself\u001b[0m\u001b[0;34m.\u001b[0m\u001b[0myes_node\u001b[0m \u001b[0;34m=\u001b[0m \u001b[0mQuestionNode\u001b[0m\u001b[0;34m(\u001b[0m\u001b[0mfeatures\u001b[0m\u001b[0;34m,\u001b[0m \u001b[0myes_arr\u001b[0m\u001b[0;34m)\u001b[0m\u001b[0;34m\u001b[0m\u001b[0;34m\u001b[0m\u001b[0m\n\u001b[0m\u001b[1;32m     19\u001b[0m         \u001b[0mself\u001b[0m\u001b[0;34m.\u001b[0m\u001b[0mno_node\u001b[0m \u001b[0;34m=\u001b[0m \u001b[0mQuestionNode\u001b[0m\u001b[0;34m(\u001b[0m\u001b[0mfeatures\u001b[0m\u001b[0;34m,\u001b[0m \u001b[0mno_arr\u001b[0m\u001b[0;34m)\u001b[0m\u001b[0;34m\u001b[0m\u001b[0;34m\u001b[0m\u001b[0m\n\u001b[1;32m     20\u001b[0m \u001b[0;34m\u001b[0m\u001b[0m\n",
      "\u001b[0;32m/tmp/ipykernel_510763/1868080217.py\u001b[0m in \u001b[0;36m__init__\u001b[0;34m(self, features, persons)\u001b[0m\n\u001b[1;32m     13\u001b[0m             \u001b[0;32mreturn\u001b[0m\u001b[0;34m\u001b[0m\u001b[0;34m\u001b[0m\u001b[0m\n\u001b[1;32m     14\u001b[0m \u001b[0;34m\u001b[0m\u001b[0m\n\u001b[0;32m---> 15\u001b[0;31m         \u001b[0mself\u001b[0m\u001b[0;34m.\u001b[0m\u001b[0mfeature\u001b[0m\u001b[0;34m,\u001b[0m \u001b[0mself\u001b[0m\u001b[0;34m.\u001b[0m\u001b[0mvalue\u001b[0m \u001b[0;34m=\u001b[0m \u001b[0mget_best_feature_value\u001b[0m\u001b[0;34m(\u001b[0m\u001b[0mpersons\u001b[0m\u001b[0;34m,\u001b[0m \u001b[0mfeatures\u001b[0m\u001b[0;34m)\u001b[0m\u001b[0;34m\u001b[0m\u001b[0;34m\u001b[0m\u001b[0m\n\u001b[0m\u001b[1;32m     16\u001b[0m         \u001b[0myes_arr\u001b[0m\u001b[0;34m,\u001b[0m \u001b[0mno_arr\u001b[0m \u001b[0;34m=\u001b[0m \u001b[0mdivide\u001b[0m\u001b[0;34m(\u001b[0m\u001b[0mpersons\u001b[0m\u001b[0;34m,\u001b[0m \u001b[0mtest_feature\u001b[0m\u001b[0;34m,\u001b[0m \u001b[0mtest_value\u001b[0m\u001b[0;34m)\u001b[0m\u001b[0;34m\u001b[0m\u001b[0;34m\u001b[0m\u001b[0m\n\u001b[1;32m     17\u001b[0m \u001b[0;34m\u001b[0m\u001b[0m\n",
      "\u001b[0;32m/tmp/ipykernel_510763/2182663659.py\u001b[0m in \u001b[0;36mget_best_feature_value\u001b[0;34m(persons, features)\u001b[0m\n\u001b[1;32m     31\u001b[0m     \u001b[0mbest_value\u001b[0m \u001b[0;34m=\u001b[0m \u001b[0;32mNone\u001b[0m\u001b[0;34m\u001b[0m\u001b[0;34m\u001b[0m\u001b[0m\n\u001b[1;32m     32\u001b[0m     \u001b[0;32mfor\u001b[0m \u001b[0mfeature\u001b[0m \u001b[0;32min\u001b[0m \u001b[0mfeatures\u001b[0m\u001b[0;34m:\u001b[0m\u001b[0;34m\u001b[0m\u001b[0;34m\u001b[0m\u001b[0m\n\u001b[0;32m---> 33\u001b[0;31m         \u001b[0mvalue\u001b[0m\u001b[0;34m,\u001b[0m \u001b[0mscore\u001b[0m \u001b[0;34m=\u001b[0m \u001b[0mget_best_value\u001b[0m\u001b[0;34m(\u001b[0m\u001b[0mpersons\u001b[0m\u001b[0;34m,\u001b[0m \u001b[0mfeature\u001b[0m\u001b[0;34m)\u001b[0m\u001b[0;34m\u001b[0m\u001b[0;34m\u001b[0m\u001b[0m\n\u001b[0m\u001b[1;32m     34\u001b[0m         \u001b[0;31m# print(f'feature {feature}, value {value}, score {score}')\u001b[0m\u001b[0;34m\u001b[0m\u001b[0;34m\u001b[0m\u001b[0;34m\u001b[0m\u001b[0m\n\u001b[1;32m     35\u001b[0m         \u001b[0;32mif\u001b[0m \u001b[0mscore\u001b[0m \u001b[0;34m<\u001b[0m \u001b[0mbest_score\u001b[0m\u001b[0;34m:\u001b[0m\u001b[0;34m\u001b[0m\u001b[0;34m\u001b[0m\u001b[0m\n",
      "\u001b[0;32m/tmp/ipykernel_510763/2182663659.py\u001b[0m in \u001b[0;36mget_best_value\u001b[0;34m(persons, feature)\u001b[0m\n\u001b[1;32m     15\u001b[0m     \u001b[0;32mfor\u001b[0m \u001b[0mperson\u001b[0m \u001b[0;32min\u001b[0m \u001b[0mpersons\u001b[0m\u001b[0;34m:\u001b[0m\u001b[0;34m\u001b[0m\u001b[0;34m\u001b[0m\u001b[0m\n\u001b[1;32m     16\u001b[0m         \u001b[0mvalues\u001b[0m\u001b[0;34m[\u001b[0m\u001b[0mperson\u001b[0m\u001b[0;34m[\u001b[0m\u001b[0mfeature\u001b[0m\u001b[0;34m]\u001b[0m\u001b[0;34m]\u001b[0m \u001b[0;34m+=\u001b[0m \u001b[0;36m1\u001b[0m\u001b[0;34m\u001b[0m\u001b[0;34m\u001b[0m\u001b[0m\n\u001b[0;32m---> 17\u001b[0;31m     \u001b[0;32mreturn\u001b[0m \u001b[0mbest_value_from_dict\u001b[0m\u001b[0;34m(\u001b[0m\u001b[0mvalues\u001b[0m\u001b[0;34m,\u001b[0m \u001b[0mnum\u001b[0m\u001b[0;34m)\u001b[0m\u001b[0;34m\u001b[0m\u001b[0;34m\u001b[0m\u001b[0m\n\u001b[0m\u001b[1;32m     18\u001b[0m \u001b[0;34m\u001b[0m\u001b[0m\n\u001b[1;32m     19\u001b[0m \u001b[0;32mdef\u001b[0m \u001b[0mbest_value_from_dict\u001b[0m\u001b[0;34m(\u001b[0m\u001b[0mvalues\u001b[0m\u001b[0;34m,\u001b[0m \u001b[0mnum_of_persons\u001b[0m\u001b[0;34m)\u001b[0m \u001b[0;34m->\u001b[0m \u001b[0mstr\u001b[0m\u001b[0;34m:\u001b[0m\u001b[0;34m\u001b[0m\u001b[0;34m\u001b[0m\u001b[0m\n",
      "\u001b[0;32m/tmp/ipykernel_510763/2182663659.py\u001b[0m in \u001b[0;36mbest_value_from_dict\u001b[0;34m(values, num_of_persons)\u001b[0m\n\u001b[1;32m     21\u001b[0m     \u001b[0mbest_value\u001b[0m \u001b[0;34m=\u001b[0m \u001b[0;32mNone\u001b[0m\u001b[0;34m\u001b[0m\u001b[0;34m\u001b[0m\u001b[0m\n\u001b[1;32m     22\u001b[0m     \u001b[0;32mfor\u001b[0m \u001b[0mvalue\u001b[0m\u001b[0;34m,\u001b[0m \u001b[0mpos_num\u001b[0m \u001b[0;32min\u001b[0m \u001b[0mvalues\u001b[0m\u001b[0;34m.\u001b[0m\u001b[0mitems\u001b[0m\u001b[0;34m(\u001b[0m\u001b[0;34m)\u001b[0m\u001b[0;34m:\u001b[0m\u001b[0;34m\u001b[0m\u001b[0;34m\u001b[0m\u001b[0m\n\u001b[0;32m---> 23\u001b[0;31m         \u001b[0;32mif\u001b[0m \u001b[0mabs\u001b[0m\u001b[0;34m(\u001b[0m\u001b[0mpos_num\u001b[0m\u001b[0;34m/\u001b[0m\u001b[0mnum_of_persons\u001b[0m \u001b[0;34m-\u001b[0m \u001b[0;36m0.5\u001b[0m\u001b[0;34m)\u001b[0m \u001b[0;34m<\u001b[0m \u001b[0mbest\u001b[0m\u001b[0;34m:\u001b[0m\u001b[0;34m\u001b[0m\u001b[0;34m\u001b[0m\u001b[0m\n\u001b[0m\u001b[1;32m     24\u001b[0m             \u001b[0mbest\u001b[0m \u001b[0;34m=\u001b[0m \u001b[0mabs\u001b[0m\u001b[0;34m(\u001b[0m\u001b[0mpos_num\u001b[0m\u001b[0;34m/\u001b[0m\u001b[0mnum_of_persons\u001b[0m \u001b[0;34m-\u001b[0m \u001b[0;36m0.5\u001b[0m\u001b[0;34m)\u001b[0m\u001b[0;34m\u001b[0m\u001b[0;34m\u001b[0m\u001b[0m\n\u001b[1;32m     25\u001b[0m             \u001b[0mbest_value\u001b[0m \u001b[0;34m=\u001b[0m \u001b[0mvalue\u001b[0m\u001b[0;34m\u001b[0m\u001b[0;34m\u001b[0m\u001b[0m\n",
      "\u001b[0;31mZeroDivisionError\u001b[0m: division by zero"
     ]
    }
   ],
   "source": [
    "model = QuestionNode(features, persons)"
   ]
  },
  {
   "cell_type": "code",
   "execution_count": null,
   "metadata": {},
   "outputs": [],
   "source": []
  }
 ],
 "metadata": {
  "kernelspec": {
   "display_name": "yaprof",
   "language": "python",
   "name": "python3"
  },
  "language_info": {
   "codemirror_mode": {
    "name": "ipython",
    "version": 3
   },
   "file_extension": ".py",
   "mimetype": "text/x-python",
   "name": "python",
   "nbconvert_exporter": "python",
   "pygments_lexer": "ipython3",
   "version": "3.7.3"
  }
 },
 "nbformat": 4,
 "nbformat_minor": 2
}
