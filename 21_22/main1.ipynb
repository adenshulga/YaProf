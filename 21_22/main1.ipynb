{
 "cells": [
  {
   "cell_type": "code",
   "execution_count": 3,
   "metadata": {},
   "outputs": [],
   "source": [
    "from dataclasses import dataclass\n",
    "from typing import List, Dict\n",
    "from copy import copy"
   ]
  },
  {
   "cell_type": "markdown",
   "metadata": {},
   "source": [
    "Task 1"
   ]
  },
  {
   "cell_type": "markdown",
   "metadata": {},
   "source": [
    "Pseudocode:\n",
    "\n",
    "1) делим весь промежуток на элементарные отрезки, на каждом отрезке сохраняем характеристики прямых\n",
    "2) делим интеграл на эти элементарные отрезки\n",
    "3) ответ: сумма интегралов по элементарным отрезкам"
   ]
  },
  {
   "cell_type": "code",
   "execution_count": 4,
   "metadata": {},
   "outputs": [],
   "source": [
    "@dataclass\n",
    "class Line:\n",
    "    a: float\n",
    "    b: float\n",
    "    border_left: float\n",
    "    border_right: float\n",
    "\n",
    "    def __sub__(self, other):\n",
    "        if (self.border_left != other.border_left) or (self.border_right != other.border_right):\n",
    "            raise Exception('Different borders')\n",
    "        return Line(self.a - other.a, self.b - other.b,self.border_left, self.border_right ) \n",
    "\n",
    "\n",
    "    def zero_split(self):\n",
    "        if self.a == 0:\n",
    "            return [self] \n",
    "        x_intersect = -self.b / self.a\n",
    "        print(x_intersect)\n",
    "        if (x_intersect < self.border_right) and (x_intersect > self.border_left):\n",
    "            line_l, line_r = copy(self), copy(self)\n",
    "            line_l.border_right = x_intersect\n",
    "            line_r.border_left = x_intersect\n",
    "            return [line_l, line_r]\n",
    "        else:\n",
    "            return [self]\n",
    "\n",
    "    def integrate(self) -> float:\n",
    "        alpha = self.border_left\n",
    "        beta = self.border_right\n",
    "        return abs(self.a/2 * (beta ** 2 - alpha**2) + self.b * (beta - alpha))       "
   ]
  },
  {
   "cell_type": "code",
   "execution_count": 205,
   "metadata": {},
   "outputs": [
    {
     "ename": "ValueError",
     "evalue": "not enough values to unpack (expected 2, got 0)",
     "output_type": "error",
     "traceback": [
      "\u001b[0;31m---------------------------------------------------------------------------\u001b[0m",
      "\u001b[0;31mValueError\u001b[0m                                Traceback (most recent call last)",
      "\u001b[0;32m/tmp/ipykernel_487398/534620386.py\u001b[0m in \u001b[0;36m<module>\u001b[0;34m\u001b[0m\n\u001b[0;32m----> 1\u001b[0;31m \u001b[0mN\u001b[0m\u001b[0;34m,\u001b[0m \u001b[0mM\u001b[0m \u001b[0;34m=\u001b[0m \u001b[0minput\u001b[0m\u001b[0;34m(\u001b[0m\u001b[0;34m)\u001b[0m\u001b[0;34m.\u001b[0m\u001b[0msplit\u001b[0m\u001b[0;34m(\u001b[0m\u001b[0;34m)\u001b[0m\u001b[0;34m\u001b[0m\u001b[0;34m\u001b[0m\u001b[0m\n\u001b[0m\u001b[1;32m      2\u001b[0m \u001b[0mN\u001b[0m \u001b[0;34m=\u001b[0m \u001b[0mint\u001b[0m\u001b[0;34m(\u001b[0m\u001b[0mN\u001b[0m\u001b[0;34m)\u001b[0m\u001b[0;34m\u001b[0m\u001b[0;34m\u001b[0m\u001b[0m\n\u001b[1;32m      3\u001b[0m \u001b[0mM\u001b[0m \u001b[0;34m=\u001b[0m \u001b[0mint\u001b[0m\u001b[0;34m(\u001b[0m\u001b[0mM\u001b[0m\u001b[0;34m)\u001b[0m\u001b[0;34m\u001b[0m\u001b[0;34m\u001b[0m\u001b[0m\n\u001b[1;32m      4\u001b[0m \u001b[0mx_f\u001b[0m \u001b[0;34m=\u001b[0m \u001b[0;34m[\u001b[0m \u001b[0mfloat\u001b[0m\u001b[0;34m(\u001b[0m\u001b[0mi\u001b[0m\u001b[0;34m)\u001b[0m \u001b[0;32mfor\u001b[0m \u001b[0mi\u001b[0m \u001b[0;32min\u001b[0m \u001b[0minput\u001b[0m\u001b[0;34m(\u001b[0m\u001b[0;34m)\u001b[0m\u001b[0;34m.\u001b[0m\u001b[0msplit\u001b[0m\u001b[0;34m(\u001b[0m\u001b[0;34m)\u001b[0m\u001b[0;34m]\u001b[0m\u001b[0;34m\u001b[0m\u001b[0;34m\u001b[0m\u001b[0m\n\u001b[1;32m      5\u001b[0m \u001b[0ma_b_f\u001b[0m \u001b[0;34m=\u001b[0m \u001b[0;34m[\u001b[0m\u001b[0;34m]\u001b[0m\u001b[0;34m\u001b[0m\u001b[0;34m\u001b[0m\u001b[0m\n",
      "\u001b[0;31mValueError\u001b[0m: not enough values to unpack (expected 2, got 0)"
     ]
    }
   ],
   "source": [
    "N, M = input().split()\n",
    "N = int(N)\n",
    "M = int(M)\n",
    "x_f = [ float(i) for i in input().split()]\n",
    "a_b_f = []\n",
    "for _ in range(N):\n",
    "    a, b = input().split()\n",
    "    a, b = int(a), int(b)\n",
    "    a_b_f.append((a, b))\n",
    "x_g = [ float(i) for i in input().split()]\n",
    "a_b_g = []\n",
    "for _ in range(M):\n",
    "    a, b = input().split()\n",
    "    a, b = int(a), int(b)\n",
    "    a_b_g.append((a, b))"
   ]
  },
  {
   "cell_type": "code",
   "execution_count": 12,
   "metadata": {},
   "outputs": [],
   "source": [
    "# x_f = [0,1.5,5]\n",
    "# x_g = [0,1, 3,5]\n",
    "# a_b_f = [(1,2), (-3, 4)]\n",
    "# a_b_g = [(1,2), (4, -1), (0,2)]\n",
    "\n",
    "x_f = [0,2]\n",
    "x_g = [0, 2]\n",
    "a_b_f = [(-1,1)]\n",
    "a_b_g = [(0,0)]\n",
    "\n",
    "# x_f = [1, 2, 3, 4]\n",
    "# x_g = [1,1.5, 4]\n",
    "# a_b_f = [(-1,2), (0, 1), (0,1)]\n",
    "# a_b_g = [(0,0), (0,0)]"
   ]
  },
  {
   "cell_type": "code",
   "execution_count": 13,
   "metadata": {},
   "outputs": [],
   "source": [
    "f_lines = []\n",
    "for i in range(len(x_f) - 1):\n",
    "    f_lines.append(Line(a_b_f[i][0], a_b_f[i][1], x_f[i], x_f[i+1]))\n",
    "\n",
    "g_lines = []\n",
    "for i in range(len(x_g) - 1):\n",
    "    g_lines.append(Line(a_b_g[i][0], a_b_g[i][1], x_g[i], x_g[i+1]))"
   ]
  },
  {
   "cell_type": "code",
   "execution_count": 14,
   "metadata": {},
   "outputs": [],
   "source": [
    "def intervals_parser(x_f, x_g) -> List[float]:\n",
    "    'Обьединить массивы, отсориторвать и дропнуть дубликаты'\n",
    "    a = x_f + x_g\n",
    "    a = list(set(a))\n",
    "    a.sort()\n",
    "\n",
    "    return a\n",
    "\n",
    "\n",
    "def params_parser(lines_list : List[Line], point) -> List[Line]:\n",
    "    'Для каждого отрезка смотрим какие параметры попадают'\n",
    "    tmp_lines = copy(lines_list)\n",
    "    for i, line in enumerate(tmp_lines):\n",
    "        if (point > line.border_left) and (point < line.border_right):\n",
    "            return line\n",
    "        if (point > line.border_right):\n",
    "            lines_list.pop(i)\n",
    "    "
   ]
  },
  {
   "cell_type": "code",
   "execution_count": 15,
   "metadata": {},
   "outputs": [],
   "source": [
    "points = intervals_parser(x_f, x_g)"
   ]
  },
  {
   "cell_type": "code",
   "execution_count": 9,
   "metadata": {},
   "outputs": [
    {
     "data": {
      "text/plain": [
       "[0, 2]"
      ]
     },
     "execution_count": 9,
     "metadata": {},
     "output_type": "execute_result"
    }
   ],
   "source": [
    "points"
   ]
  },
  {
   "cell_type": "code",
   "execution_count": 10,
   "metadata": {},
   "outputs": [
    {
     "data": {
      "text/plain": [
       "[Line(a=0, b=0, border_left=0, border_right=2)]"
      ]
     },
     "execution_count": 10,
     "metadata": {},
     "output_type": "execute_result"
    }
   ],
   "source": [
    "g_lines"
   ]
  },
  {
   "cell_type": "code",
   "execution_count": 337,
   "metadata": {},
   "outputs": [
    {
     "name": "stdout",
     "output_type": "stream",
     "text": [
      "[Line(a=-1, b=2, border_left=1, border_right=2), Line(a=0, b=1, border_left=2, border_right=3), Line(a=0, b=1, border_left=3, border_right=4)]\n",
      "point:  1.25\n",
      "1\n",
      "2\n",
      "[Line(a=0, b=0, border_left=1, border_right=1.5), Line(a=0, b=0, border_left=1.5, border_right=4)]\n",
      "point:  1.25\n",
      "1\n",
      "1.5\n",
      "[Line(a=-1, b=2, border_left=1, border_right=2), Line(a=0, b=1, border_left=2, border_right=3), Line(a=0, b=1, border_left=3, border_right=4)]\n",
      "point:  1.75\n",
      "1\n",
      "2\n",
      "[Line(a=0, b=0, border_left=1, border_right=1.5), Line(a=0, b=0, border_left=1.5, border_right=4)]\n",
      "point:  1.75\n",
      "1\n",
      "1.5\n",
      "point:  1.75\n",
      "1.5\n",
      "4\n",
      "[Line(a=-1, b=2, border_left=1, border_right=2), Line(a=0, b=1, border_left=2, border_right=3), Line(a=0, b=1, border_left=3, border_right=4)]\n",
      "point:  2.5\n",
      "1\n",
      "2\n",
      "point:  2.5\n",
      "2\n",
      "3\n",
      "[Line(a=0, b=0, border_left=1.5, border_right=4)]\n",
      "point:  2.5\n",
      "1.5\n",
      "4\n",
      "[Line(a=0, b=1, border_left=2, border_right=3), Line(a=0, b=1, border_left=3, border_right=4)]\n",
      "point:  3.5\n",
      "2\n",
      "3\n",
      "point:  3.5\n",
      "3\n",
      "4\n",
      "[Line(a=0, b=0, border_left=1.5, border_right=4)]\n",
      "point:  3.5\n",
      "1.5\n",
      "4\n"
     ]
    }
   ],
   "source": [
    "reduced_f_list = []\n",
    "reduced_g_list = []\n",
    "\n",
    "for i in range(len(points) - 1):\n",
    "    segment_point = points[i+1] + points[i]\n",
    "    segment_point *= 0.5\n",
    "    \n",
    "    line_f = params_parser(f_lines, segment_point)\n",
    "    reduced_f_list.append(Line(line_f.a, line_f.b, points[i], points[i+1]))\n",
    "\n",
    "    line_g = params_parser(g_lines, segment_point)\n",
    "    reduced_g_list.append(Line(line_g.a, line_g.b, points[i], points[i+1]))\n",
    "    \n",
    "     "
   ]
  },
  {
   "cell_type": "code",
   "execution_count": 338,
   "metadata": {},
   "outputs": [
    {
     "data": {
      "text/plain": [
       "[Line(a=0, b=0, border_left=1.5, border_right=4)]"
      ]
     },
     "execution_count": 338,
     "metadata": {},
     "output_type": "execute_result"
    }
   ],
   "source": [
    "g_lines"
   ]
  },
  {
   "cell_type": "code",
   "execution_count": 339,
   "metadata": {},
   "outputs": [
    {
     "name": "stdout",
     "output_type": "stream",
     "text": [
      "Line(a=-1, b=2, border_left=1, border_right=1.5)\n",
      "2.0\n",
      "Line(a=-1, b=2, border_left=1.5, border_right=2)\n",
      "2.0\n",
      "Line(a=0, b=1, border_left=2, border_right=3)\n",
      "Line(a=0, b=1, border_left=3, border_right=4)\n"
     ]
    }
   ],
   "source": [
    "# sunbstr_list = []\n",
    "integral = 0\n",
    "for f, g in zip(reduced_f_list, reduced_g_list):\n",
    "    line = f - g\n",
    "    print(line)\n",
    "    for subline in line.zero_split():\n",
    "        # print(subline)\n",
    "        # print(subline.integrate())\n",
    "        integral += subline.integrate()\n"
   ]
  },
  {
   "cell_type": "code",
   "execution_count": 340,
   "metadata": {},
   "outputs": [
    {
     "name": "stdout",
     "output_type": "stream",
     "text": [
      "2.5000\n"
     ]
    }
   ],
   "source": [
    "print(f'{integral:.4f}')"
   ]
  },
  {
   "cell_type": "markdown",
   "metadata": {},
   "source": [
    "Optimization attempt"
   ]
  },
  {
   "cell_type": "code",
   "execution_count": 17,
   "metadata": {},
   "outputs": [
    {
     "name": "stdout",
     "output_type": "stream",
     "text": [
      "1.0\n",
      "1.0000\n"
     ]
    }
   ],
   "source": [
    "# reduced_f_list = []\n",
    "# reduced_g_list = []\n",
    "integral = 0\n",
    "\n",
    "for i in range(len(points) - 1):\n",
    "    segment_point = points[i+1] + points[i]\n",
    "    segment_point *= 0.5\n",
    "    \n",
    "    line_f = params_parser(f_lines, segment_point)\n",
    "    line_g = params_parser(g_lines, segment_point)\n",
    "    line = Line(line_f.a-line_g.a, line_f.b - line_g.b, points[i], points[i+1])\n",
    "    for subline in line.zero_split():\n",
    "        integral += subline.integrate()\n",
    "\n",
    "print(f'{integral:.4f}')\n",
    "     "
   ]
  },
  {
   "cell_type": "code",
   "execution_count": null,
   "metadata": {},
   "outputs": [
    {
     "data": {
      "text/plain": [
       "[Line(a=0, b=0, border_left=1.5, border_right=4)]"
      ]
     },
     "metadata": {},
     "output_type": "display_data"
    }
   ],
   "source": [
    "g_lines"
   ]
  },
  {
   "cell_type": "code",
   "execution_count": null,
   "metadata": {},
   "outputs": [
    {
     "name": "stdout",
     "output_type": "stream",
     "text": [
      "Line(a=-1, b=2, border_left=1, border_right=1.5)\n",
      "2.0\n",
      "Line(a=-1, b=2, border_left=1.5, border_right=2)\n",
      "2.0\n",
      "Line(a=0, b=1, border_left=2, border_right=3)\n",
      "Line(a=0, b=1, border_left=3, border_right=4)\n"
     ]
    }
   ],
   "source": [
    "# sunbstr_list = []\n",
    "integral = 0\n",
    "for f, g in zip(reduced_f_list, reduced_g_list):\n",
    "    line = f - g\n",
    "    print(line)\n",
    "    for subline in line.zero_split():\n",
    "        # print(subline)\n",
    "        # print(subline.integrate())\n",
    "        integral += subline.integrate()\n"
   ]
  },
  {
   "cell_type": "code",
   "execution_count": null,
   "metadata": {},
   "outputs": [
    {
     "name": "stdout",
     "output_type": "stream",
     "text": [
      "2.5000\n"
     ]
    }
   ],
   "source": [
    "print(f'{integral:.4f}')"
   ]
  }
 ],
 "metadata": {
  "kernelspec": {
   "display_name": "MIPT_DL_course",
   "language": "python",
   "name": "python3"
  },
  "language_info": {
   "codemirror_mode": {
    "name": "ipython",
    "version": 3
   },
   "file_extension": ".py",
   "mimetype": "text/x-python",
   "name": "python",
   "nbconvert_exporter": "python",
   "pygments_lexer": "ipython3",
   "version": "3.7.3"
  }
 },
 "nbformat": 4,
 "nbformat_minor": 2
}
