{
 "cells": [
  {
   "cell_type": "code",
   "execution_count": 12,
   "metadata": {},
   "outputs": [],
   "source": [
    "import numpy as np\n",
    "\n",
    "from math import comb"
   ]
  },
  {
   "cell_type": "markdown",
   "metadata": {},
   "source": [
    "## Task 2"
   ]
  },
  {
   "cell_type": "code",
   "execution_count": 4,
   "metadata": {},
   "outputs": [],
   "source": [
    "arr1 = [ comb(10, 2*i) for i in range(6) ]\n",
    "arr2 = [ comb(2*i, i) for i in range(6)]"
   ]
  },
  {
   "cell_type": "code",
   "execution_count": 5,
   "metadata": {},
   "outputs": [
    {
     "data": {
      "text/plain": [
       "[1, 45, 210, 210, 45, 1]"
      ]
     },
     "execution_count": 5,
     "metadata": {},
     "output_type": "execute_result"
    }
   ],
   "source": [
    "arr1"
   ]
  },
  {
   "cell_type": "code",
   "execution_count": 8,
   "metadata": {},
   "outputs": [
    {
     "data": {
      "text/plain": [
       "[252, 70, 20, 6, 2, 1]"
      ]
     },
     "execution_count": 8,
     "metadata": {},
     "output_type": "execute_result"
    }
   ],
   "source": [
    "arr2[::-1]"
   ]
  },
  {
   "cell_type": "code",
   "execution_count": 9,
   "metadata": {},
   "outputs": [],
   "source": [
    "arr3 = []\n",
    "for a1, a2 in zip(arr2, arr2[::-1]):\n",
    "    arr3.append(a1*a2)"
   ]
  },
  {
   "cell_type": "code",
   "execution_count": 10,
   "metadata": {},
   "outputs": [
    {
     "data": {
      "text/plain": [
       "[252, 140, 120, 120, 140, 252]"
      ]
     },
     "execution_count": 10,
     "metadata": {},
     "output_type": "execute_result"
    }
   ],
   "source": [
    "arr3"
   ]
  },
  {
   "cell_type": "code",
   "execution_count": 11,
   "metadata": {},
   "outputs": [
    {
     "data": {
      "text/plain": [
       "63504"
      ]
     },
     "execution_count": 11,
     "metadata": {},
     "output_type": "execute_result"
    }
   ],
   "source": [
    "ans = 0\n",
    "for a1, a2 in zip(arr1, arr3):\n",
    "    ans += a1*a2\n",
    "ans"
   ]
  },
  {
   "cell_type": "markdown",
   "metadata": {},
   "source": [
    "Answer: 63504"
   ]
  },
  {
   "cell_type": "markdown",
   "metadata": {},
   "source": [
    "## Task 4"
   ]
  },
  {
   "cell_type": "markdown",
   "metadata": {},
   "source": [
    "0.615"
   ]
  },
  {
   "cell_type": "markdown",
   "metadata": {},
   "source": [
    "## Task 1"
   ]
  },
  {
   "cell_type": "code",
   "execution_count": 13,
   "metadata": {},
   "outputs": [],
   "source": [
    "class GermGraph:\n",
    "\n",
    "    def __init__(self) -> None:\n",
    "        self.power_of_apex = [3,3,3,2,4,3]\n",
    "        self.current_germs = [1,1,1,1,1,1]\n",
    "        self.graph = np.array([[0,1,1,0,1,0],\n",
    "                               [1,0,0,1,1,0],\n",
    "                               [1,0,0,0,1,1],\n",
    "                               [0,1,0,0,0,1],\n",
    "                               [1,1,1,0,0,1],\n",
    "                               [0,0,1,1,1,0]])\n",
    "        \n",
    "    def step(self):\n",
    "        for i in range(6):\n",
    "            for j in range(6):\n",
    "                self.current_germs[i] += self.current_germs[j] if self.graph[i][j] == 1 else 0\n",
    "\n",
    "    "
   ]
  },
  {
   "cell_type": "code",
   "execution_count": 14,
   "metadata": {},
   "outputs": [],
   "source": [
    "g = GermGraph()"
   ]
  },
  {
   "cell_type": "code",
   "execution_count": 15,
   "metadata": {},
   "outputs": [],
   "source": [
    "for _ in range(16):\n",
    "    g.step()"
   ]
  },
  {
   "cell_type": "code",
   "execution_count": 16,
   "metadata": {},
   "outputs": [
    {
     "data": {
      "text/plain": [
       "[209013048485833337,\n",
       " 409054988700990089,\n",
       " 603744912122724833,\n",
       " 692871105199902769,\n",
       " 1571366707673076177,\n",
       " 3099951441867590681]"
      ]
     },
     "execution_count": 16,
     "metadata": {},
     "output_type": "execute_result"
    }
   ],
   "source": [
    "g.current_germs"
   ]
  },
  {
   "cell_type": "markdown",
   "metadata": {},
   "source": [
    "## Task 8"
   ]
  },
  {
   "cell_type": "code",
   "execution_count": 44,
   "metadata": {},
   "outputs": [],
   "source": [
    "def matrix_mod_power(matrix, exp, mod):\n",
    "    \"\"\"\n",
    "    Efficiently computes matrix to the power of exp with modulo mod.\n",
    "    \"\"\"\n",
    "    # Start with an identity matrix of the same size as the input matrix\n",
    "    result = np.eye(matrix.shape[0], dtype=np.ulonglong)\n",
    "    \n",
    "    # Copy the matrix to avoid modifying the original matrix\n",
    "    matrix = np.copy(matrix)\n",
    "\n",
    "    while exp > 0:\n",
    "        # If exp is odd, multiply the result with the current matrix\n",
    "        if exp % 2 == 1:\n",
    "            result = (result @ matrix) % mod\n",
    "\n",
    "        # Square the matrix and reduce exp by half\n",
    "        matrix = (matrix @ matrix) % mod\n",
    "        exp //= 2\n",
    "\n",
    "    return result"
   ]
  },
  {
   "cell_type": "code",
   "execution_count": 45,
   "metadata": {},
   "outputs": [
    {
     "data": {
      "text/plain": [
       "array([[        0,    121393, 999924982],\n",
       "       [        0, 999924982,     46368],\n",
       "       [        0,     46368, 999971350]], dtype=uint64)"
      ]
     },
     "execution_count": 45,
     "metadata": {},
     "output_type": "execute_result"
    }
   ],
   "source": [
    "matrix_mod_power(step, 10**9, modfactor)"
   ]
  },
  {
   "cell_type": "code",
   "execution_count": 51,
   "metadata": {},
   "outputs": [
    {
     "ename": "ValueError",
     "evalue": "invalid literal for int() with base 10: ''",
     "output_type": "error",
     "traceback": [
      "\u001b[0;31m---------------------------------------------------------------------------\u001b[0m",
      "\u001b[0;31mValueError\u001b[0m                                Traceback (most recent call last)",
      "\u001b[1;32m/home/andrey/Prgrm/YaProf/otbor.ipynb Cell 20\u001b[0m line \u001b[0;36m3\n\u001b[1;32m     <a href='vscode-notebook-cell:/home/andrey/Prgrm/YaProf/otbor.ipynb#X31sZmlsZQ%3D%3D?line=28'>29</a>\u001b[0m step \u001b[39m=\u001b[39m (a1 \u001b[39m@\u001b[39m (a2 \u001b[39m@\u001b[39m a3))\u001b[39m.\u001b[39mastype(np\u001b[39m.\u001b[39mulonglong)\n\u001b[1;32m     <a href='vscode-notebook-cell:/home/andrey/Prgrm/YaProf/otbor.ipynb#X31sZmlsZQ%3D%3D?line=30'>31</a>\u001b[0m modfactor \u001b[39m=\u001b[39m \u001b[39m1000000007\u001b[39m \n\u001b[0;32m---> <a href='vscode-notebook-cell:/home/andrey/Prgrm/YaProf/otbor.ipynb#X31sZmlsZQ%3D%3D?line=32'>33</a>\u001b[0m num_of_input_data \u001b[39m=\u001b[39m \u001b[39mint\u001b[39m(\u001b[39minput\u001b[39m())\n\u001b[1;32m     <a href='vscode-notebook-cell:/home/andrey/Prgrm/YaProf/otbor.ipynb#X31sZmlsZQ%3D%3D?line=34'>35</a>\u001b[0m \u001b[39m# ans = []\u001b[39;00m\n\u001b[1;32m     <a href='vscode-notebook-cell:/home/andrey/Prgrm/YaProf/otbor.ipynb#X31sZmlsZQ%3D%3D?line=35'>36</a>\u001b[0m \u001b[39mfor\u001b[39;00m _ \u001b[39min\u001b[39;00m \u001b[39mrange\u001b[39m(num_of_input_data):\n",
      "\u001b[0;31mValueError\u001b[0m: invalid literal for int() with base 10: ''"
     ]
    }
   ],
   "source": [
    "import numpy as np\n",
    "from numpy.linalg import matrix_power\n",
    "\n",
    "def matrix_mod_power(matrix, exp, mod):\n",
    "    \"\"\"\n",
    "    Efficiently computes matrix to the power of exp with modulo mod.\n",
    "    \"\"\"\n",
    "    # Start with an identity matrix of the same size as the input matrix\n",
    "    result = np.eye(matrix.shape[0], dtype=np.ulonglong)\n",
    "    \n",
    "    # Copy the matrix to avoid modifying the original matrix\n",
    "    matrix = np.copy(matrix)\n",
    "\n",
    "    while exp > 0:\n",
    "        # If exp is odd, multiply the result with the current matrix\n",
    "        if exp % 2 == 1:\n",
    "            result = (result @ matrix) % mod\n",
    "\n",
    "        # Square the matrix and reduce exp by half\n",
    "        matrix = (matrix @ matrix) % mod\n",
    "        exp //= 2\n",
    "\n",
    "    return result\n",
    "\n",
    "a3 = np.array([[0,1,1], [0,1,0], [0,0,1]])\n",
    "a2 = np.array([[1,0,0], [1,0,1], [0,0,1]])\n",
    "a1 = np.array([[1,0,0], [0,1,0], [1,1,0]])\n",
    "\n",
    "step = (a1 @ (a2 @ a3)).astype(np.ulonglong)\n",
    "\n",
    "modfactor = 1000000007 \n",
    "\n",
    "num_of_input_data = int(input())\n",
    "\n",
    "# ans = []\n",
    "for _ in range(num_of_input_data):\n",
    "    n, k = input().split(' ')\n",
    "    init_arr = np.array(input().split(' '), dtype=np.ulonglong) % modfactor\n",
    "    operator = matrix_mod_power(step, int(k), modfactor)\n",
    "    ans = (operator @ init_arr) % modfactor\n",
    "    print(*ans, sep=' ')"
   ]
  },
  {
   "cell_type": "code",
   "execution_count": 41,
   "metadata": {},
   "outputs": [
    {
     "data": {
      "text/plain": [
       "array([[                   0,  7497720437536903935,  3158300221159902977],\n",
       "       [                   0,  3158300221159902977, 10656020658696806912],\n",
       "       [                   0, 10656020658696806912, 13814320879856709889]],\n",
       "      dtype=uint64)"
      ]
     },
     "execution_count": 41,
     "metadata": {},
     "output_type": "execute_result"
    }
   ],
   "source": [
    "matrix_power(step, 2* 10**6)"
   ]
  },
  {
   "cell_type": "markdown",
   "metadata": {},
   "source": [
    "## Task 9"
   ]
  },
  {
   "cell_type": "code",
   "execution_count": 73,
   "metadata": {},
   "outputs": [],
   "source": [
    "n = int(input())\n",
    "m = int(input())\n",
    "matrix = []\n",
    "for _ in range(n):\n",
    "    row = input().split(',')\n",
    "    row = [int(number.strip()) for number in row]\n",
    "    matrix.append(row)\n",
    "matrix = np.array(matrix)"
   ]
  },
  {
   "cell_type": "code",
   "execution_count": 74,
   "metadata": {},
   "outputs": [
    {
     "data": {
      "text/plain": [
       "array([[1, 3, 1, 2, 5],\n",
       "       [1, 3, 4, 2, 5],\n",
       "       [4, 4, 4, 0, 1]])"
      ]
     },
     "execution_count": 74,
     "metadata": {},
     "output_type": "execute_result"
    }
   ],
   "source": [
    "matrix"
   ]
  },
  {
   "cell_type": "code",
   "execution_count": 76,
   "metadata": {},
   "outputs": [],
   "source": [
    "\n",
    "def R(i, j):\n",
    "\n",
    "    if (i == 0) and (j == 0):\n",
    "        return matrix[i,j]\n",
    "    \n",
    "    if (i < 0) or (i>j):\n",
    "        return -100\n",
    "    \n",
    "    return matrix[i, j] + max(R(i-1, j-1), R(i, j-1))\n",
    "    "
   ]
  },
  {
   "cell_type": "code",
   "execution_count": 77,
   "metadata": {},
   "outputs": [
    {
     "data": {
      "text/plain": [
       "11"
      ]
     },
     "execution_count": 77,
     "metadata": {},
     "output_type": "execute_result"
    }
   ],
   "source": [
    "R(n-1,m-1)"
   ]
  },
  {
   "cell_type": "code",
   "execution_count": 68,
   "metadata": {},
   "outputs": [
    {
     "data": {
      "text/plain": [
       "array([[1, 3, 1, 1],\n",
       "       [1, 2, 2, 2],\n",
       "       [4, 2, 1, 0]])"
      ]
     },
     "execution_count": 68,
     "metadata": {},
     "output_type": "execute_result"
    }
   ],
   "source": [
    "matrix"
   ]
  },
  {
   "cell_type": "code",
   "execution_count": null,
   "metadata": {},
   "outputs": [],
   "source": []
  }
 ],
 "metadata": {
  "kernelspec": {
   "display_name": "MIPT_DL_course",
   "language": "python",
   "name": "python3"
  },
  "language_info": {
   "codemirror_mode": {
    "name": "ipython",
    "version": 3
   },
   "file_extension": ".py",
   "mimetype": "text/x-python",
   "name": "python",
   "nbconvert_exporter": "python",
   "pygments_lexer": "ipython3",
   "version": "3.11.4"
  }
 },
 "nbformat": 4,
 "nbformat_minor": 2
}
